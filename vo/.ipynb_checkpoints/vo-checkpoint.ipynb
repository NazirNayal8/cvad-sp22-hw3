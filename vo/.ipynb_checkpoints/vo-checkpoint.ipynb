{
 "cells": [
  {
   "cell_type": "markdown",
   "metadata": {
    "id": "oltMOCo4gkD0"
   },
   "source": [
    "# Visual Odometry (VO)\n",
    "\n",
    "In this week's assignment, you do not need. a GPU. You will use the pykitti module and KITTI odometry dataset.\n",
    "\n",
    "You can download the odometry data from [here](https://drive.google.com/file/d/1PJOUnM3nEwDpqiRvfqUnkNPJZpM4PKYV/view?usp=sharing)."
   ]
  },
  {
   "cell_type": "markdown",
   "metadata": {
    "id": "ffiRr-EEgkD9"
   },
   "source": [
    "## Monocular VO with OpenCV on KITTI\n",
    "\n",
    "For each consecutive frame pair in the sequence, you will compute the relative pose between the frames and visualize it. You will use:\n",
    "\n",
    "* pykitti code similar to what you wrote in Week 3 to load the seqeunce with ground-truth info. (Check out the [demo code](https://github.com/utiasSTARS/pykitti/blob/master/demos/demo_odometry.py))\n",
    "* OpenCV functions to compute and visualize the features and the essential matrix.\n",
    "\n",
    "Please follow these steps to complete the assignment:\n",
    "\n",
    "1. You can use the ORB Feature to do the feature matching:\n",
    "    `orb = cv2.ORB_create()` to create the ORB object\n",
    "    and then `orb.detectAndCompute()` to find the keypoints and descriptors on both frames\n",
    "\n",
    "2. You can use brute-force matcher to match ORB descriptors:\n",
    "    `bf = cv2.BFMatcher(cv2.NORM_HAMMING, crossCheck=True)`\n",
    "\n",
    "3. After matching the descriptors, sort the matched keypoints.\n",
    "\n",
    "4. Draw matches on the two images using the `cv2.drawMatches()` function.\n",
    "\n",
    "5. Compute the essential matrix using the `cv2.findEssentialMat()` function. Note that you need the matching points and the instrinsics for this function. \n",
    "\n",
    "6. Extract the rotation and translation from the essential matrix using the `cv2.recoverPose()` function.\n",
    "\n",
    "7. Multiply the estimated rotation and translation with the previous rotation and translation. Initialize rotation to identity and translation to zeros on the first frame.\n",
    "\n",
    "8. Display the current image with the keypoints on it using the `cv2.drawKeypoints()` function.\n",
    "\n",
    "9. Update the previous rotation and translation as the current rotation and translation.\n",
    "\n",
    "10. Draw the estimated trajectory as blue and ground-truth trajectory as green. You can use the `cv2.circle()` function.\n",
    "\n",
    "\n",
    "You can create a video of your visualization of images and poses for the provided sequence.\n",
    "\n",
    "**Bonus**: Compute the absolute trajectory error between the estimated trajectory and the ground-truth trajectory. \n",
    "\n",
    "Some examples repositories that might be useful:\n",
    "* https://bitbucket.org/castacks/visual_odometry_tutorial/src/master/visual-odometry/\n",
    "* https://github.com/uoip/monoVO-python\n"
   ]
  },
  {
   "cell_type": "code",
   "execution_count": null,
   "metadata": {},
   "outputs": [],
   "source": []
  }
 ],
 "metadata": {
  "accelerator": "GPU",
  "colab": {
   "name": "flownet3d.ipynb",
   "provenance": []
  },
  "kernelspec": {
   "display_name": "Python 3",
   "language": "python",
   "name": "python3"
  },
  "language_info": {
   "codemirror_mode": {
    "name": "ipython",
    "version": 3
   },
   "file_extension": ".py",
   "mimetype": "text/x-python",
   "name": "python",
   "nbconvert_exporter": "python",
   "pygments_lexer": "ipython3",
   "version": "3.8.5"
  }
 },
 "nbformat": 4,
 "nbformat_minor": 4
}
